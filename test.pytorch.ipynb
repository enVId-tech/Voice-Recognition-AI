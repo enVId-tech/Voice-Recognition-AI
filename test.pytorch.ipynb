{
 "cells": [
  {
   "cell_type": "code",
   "execution_count": 88,
   "metadata": {},
   "outputs": [],
   "source": [
    "import os\n",
    "import librosa\n",
    "import numpy as np\n",
    "import torch\n",
    "import pandas as pd\n",
    "from torch import nn\n",
    "from keras.preprocessing.sequence import pad_sequences\n",
    "from sklearn.metrics import accuracy_score\n",
    "from torch.nn.utils.rnn import pad_sequence"
   ]
  },
  {
   "cell_type": "code",
   "execution_count": 89,
   "metadata": {},
   "outputs": [],
   "source": [
    "# Define your Model class (similar to the one used during training)\n",
    "class Model(nn.Module):\n",
    "    def __init__(self, input_size, hidden_size, output_size):\n",
    "        super(Model, self).__init__()\n",
    "        self.hidden_size = hidden_size\n",
    "        self.lstm = nn.LSTM(input_size, hidden_size, batch_first=True)\n",
    "        self.fc = nn.Linear(hidden_size, output_size)\n",
    "\n",
    "    def forward(self, x):\n",
    "        out, _ = self.lstm(x)\n",
    "        out = out[:, -1, :]\n",
    "        out = self.fc(out)\n",
    "        return out"
   ]
  },
  {
   "cell_type": "code",
   "execution_count": 91,
   "metadata": {},
   "outputs": [],
   "source": [
    "# Initialize the model\n",
    "# Define the characters that can appear in the audio files\n",
    "characters = [' ', 'a', 'b', 'c', 'd', 'e', 'f', 'g', 'h', 'i', 'j', 'k', 'l', 'm', 'n', 'o', 'p', 'q', 'r', 's', 't', 'u', 'v', 'w', 'x', 'y', 'z', \"'\", '_', '<pad>']\n",
    "\n",
    "# Define the test data directory\n",
    "device = torch.device('cuda' if torch.cuda.is_available() else 'cpu')\n",
    "\n",
    "model = Model(13, 128, len(characters)).to(device)\n",
    "\n",
    "audio_dir = \"./AUDIO\"\n",
    "csv_file = \"./TEXT/AUDIO.csv\"\n",
    "\n",
    "# Load the test data\n",
    "audio_files = os.listdir(audio_dir)\n",
    "\n",
    "# Load the CSV file\n",
    "df = pd.read_csv(csv_file)\n",
    "\n",
    "x_test = []\n",
    "y_test = []"
   ]
  },
  {
   "cell_type": "code",
   "execution_count": 92,
   "metadata": {},
   "outputs": [],
   "source": [
    "# Convert the audio to a tensor\n",
    "def convert_audio_to_tensor(filename):\n",
    "    audio, sample_rate = librosa.load(filename, res_type='kaiser_fast')\n",
    "    mfccs = librosa.feature.mfcc(y=audio, sr=sample_rate, n_mfcc=13)\n",
    "    mfccs = np.transpose(mfccs, (1, 0))\n",
    "    return torch.tensor(mfccs)"
   ]
  },
  {
   "cell_type": "code",
   "execution_count": 93,
   "metadata": {},
   "outputs": [],
   "source": [
    "def convert_text_to_tensor(text):\n",
    "    # Convert text to a list of IDs\n",
    "    text_ids = []\n",
    "    for char in text:\n",
    "        if char.isalpha () or char.isspace (): # check if the character is a letter or a space\n",
    "            text_ids.append (characters.index(char))\n",
    "        elif char == \"'\": # keep the apostrophe\n",
    "            text_ids.append (characters.index(char))\n",
    "        else: # replace any other character with an underscore\n",
    "            text_ids.append (characters.index('_'))\n",
    "    # Convert to a tensor\n",
    "    return torch.tensor(text_ids)"
   ]
  },
  {
   "cell_type": "code",
   "execution_count": 94,
   "metadata": {},
   "outputs": [],
   "source": [
    "for file in audio_files:\n",
    "    if not file.endswith(\".mp3\"):\n",
    "        continue\n",
    "\n",
    "    file_path = os.path.join(audio_dir, file)\n",
    "\n",
    "    y, sr = librosa.load(file_path, sr=None, mono=True)\n",
    "\n",
    "    mfcc = librosa.feature.mfcc(y=y, sr=sr, n_mfcc=13)\n",
    "    mfcc = np.transpose(mfcc, (1, 0))\n",
    "\n",
    "    x_test.append(torch.tensor(mfcc))\n",
    "\n",
    "    # Find the matching text in the CSV file\n",
    "    matched_text = df.loc[df['Video Matching'] == file, 'Text'].values[0]\n",
    "\n",
    "    y_test.append(matched_text)"
   ]
  },
  {
   "cell_type": "code",
   "execution_count": 95,
   "metadata": {},
   "outputs": [
    {
     "name": "stdout",
     "output_type": "stream",
     "text": [
      "['And another thing I would ask you to watch out for is that people don\\'t understand the meaning of \"per capita\".', 'And of course, I say it and it means Ms. Galvan sounds absurd, right?', 'Ok.', 'How do you avoid falling victim to my strawman fallacy?', 'What should you do?']\n"
     ]
    }
   ],
   "source": [
    "# Check the content of y_test\n",
    "print(y_test[:5])\n",
    "\n",
    "# Assuming words is a list of words in your vocabulary\n",
    "words = sorted(set(word for sentence in y_test for word in sentence.split()))\n",
    "word_to_index = {word: index for index, word in enumerate(words)}\n",
    "\n",
    "# If y_test contains strings, convert them to integers\n",
    "if all(isinstance(i, str) for i in y_test):\n",
    "    y_test = [[word_to_index[word] for word in sentence.split()] for sentence in y_test]\n",
    "\n",
    "# Try padding again\n",
    "y_test_tensor = pad_sequences(y_test, padding='post', value=characters.index('<pad>'))"
   ]
  },
  {
   "cell_type": "code",
   "execution_count": 96,
   "metadata": {},
   "outputs": [
    {
     "name": "stdout",
     "output_type": "stream",
     "text": [
      "[torch.Size([572, 13]), torch.Size([493, 13]), torch.Size([70, 13]), torch.Size([385, 13]), torch.Size([320, 13])]\n",
      "Model is on device: cuda:0\n"
     ]
    }
   ],
   "source": [
    "# Check the shapes of the tensors in x_test\n",
    "print([x.shape for x in x_test[:5]])\n",
    "\n",
    "# Pad the tensors in x_test to the same size\n",
    "x_test_tensor = pad_sequence(x_test, batch_first=True)\n",
    "\n",
    "# Check the device of the model\n",
    "device = next(model.parameters()).device\n",
    "print(f'Model is on device: {device}')\n",
    "\n",
    "# Move the input tensor to the same device as the model\n",
    "x_test_tensor = x_test_tensor.to(device)\n",
    "\n",
    "# Pass the test data through the model\n",
    "with torch.no_grad():\n",
    "    outputs = model(x_test_tensor.float())"
   ]
  },
  {
   "cell_type": "code",
   "execution_count": 105,
   "metadata": {},
   "outputs": [],
   "source": [
    "# Check if outputs is a list of tensors\n",
    "if isinstance(outputs, list):\n",
    "    # If outputs is a list of tensors, apply argmax(1) to each tensor in the list\n",
    "    outputs = torch.stack([output.argmax(1) for output in outputs])\n",
    "else:\n",
    "    # If outputs is a single tensor, check its number of dimensions\n",
    "    if outputs.dim() == 0:\n",
    "        # If outputs is a scalar, add a dimension to it\n",
    "        outputs = outputs.unsqueeze(0)\n",
    "    elif outputs.dim() == 1:\n",
    "        # If outputs only has one dimension, use argmax(0)\n",
    "        outputs = outputs.argmax(0)\n",
    "    elif outputs.dim() > 1:\n",
    "        # If outputs has more than one dimension, use argmax(1)\n",
    "        outputs = outputs.argmax(1)\n",
    "\n",
    "# If outputs is a 0-dimensional tensor, convert it to a 1D tensor\n",
    "if outputs.dim() == 0:\n",
    "    outputs = outputs.unsqueeze(0)"
   ]
  },
  {
   "cell_type": "code",
   "execution_count": 111,
   "metadata": {},
   "outputs": [
    {
     "name": "stdout",
     "output_type": "stream",
     "text": [
      "Test Accuracy: 0.00%\n"
     ]
    }
   ],
   "source": [
    "# Calculate the accuracy of the model on the test data\n",
    "total_correct = 0\n",
    "total_elements = 0\n",
    "\n",
    "for true_sequence, predicted_sequence in zip(y_test_tensor, outputs):\n",
    "    true_sequence = true_sequence[true_sequence != characters.index('<pad>')]\n",
    "\n",
    "    # Convert numpy arrays to PyTorch tensors\n",
    "    if isinstance(true_sequence, np.ndarray):\n",
    "        true_sequence = torch.from_numpy(true_sequence)\n",
    "    if isinstance(predicted_sequence, np.ndarray):\n",
    "        predicted_sequence = torch.from_numpy(predicted_sequence)\n",
    "\n",
    "    # Check if both tensors have dimensions using ndim\n",
    "    if true_sequence.ndim == 0:\n",
    "        true_sequence = true_sequence.unsqueeze(0)\n",
    "    if predicted_sequence.ndim == 0:\n",
    "        predicted_sequence = predicted_sequence.unsqueeze(0)\n",
    "\n",
    "    # Trim to match the length of true_sequence\n",
    "    predicted_sequence = predicted_sequence[:len(true_sequence)]\n",
    "\n",
    "    # Move tensors to the same device\n",
    "    if true_sequence.device != predicted_sequence.device:\n",
    "        true_sequence = true_sequence.to(predicted_sequence.device)\n",
    "\n",
    "    # Check if both tensors are scalars before the comparison\n",
    "    if true_sequence.dim() == 0 and predicted_sequence.dim() == 0:\n",
    "        correct = torch.tensor(true_sequence == predicted_sequence).sum().item()\n",
    "    else:\n",
    "        correct = (true_sequence == predicted_sequence).sum().item()\n",
    "\n",
    "    total_correct += correct\n",
    "    total_elements += len(true_sequence)\n",
    "\n",
    "# Check if total_elements is greater than zero before calculating accuracy\n",
    "if total_elements > 0:\n",
    "    accuracy = (total_correct / total_elements) * 100\n",
    "    print(f\"Test Accuracy: {accuracy:.2f}%\")\n",
    "else:\n",
    "    print(\"No valid sequences to calculate accuracy.\")"
   ]
  }
 ],
 "metadata": {
  "kernelspec": {
   "display_name": "Python 3",
   "language": "python",
   "name": "python3"
  },
  "language_info": {
   "codemirror_mode": {
    "name": "ipython",
    "version": 3
   },
   "file_extension": ".py",
   "mimetype": "text/x-python",
   "name": "python",
   "nbconvert_exporter": "python",
   "pygments_lexer": "ipython3",
   "version": "3.11.6"
  }
 },
 "nbformat": 4,
 "nbformat_minor": 2
}
