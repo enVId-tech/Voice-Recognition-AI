{
 "cells": [
  {
   "cell_type": "code",
   "execution_count": 4,
   "metadata": {},
   "outputs": [],
   "source": [
    "import os\n",
    "import librosa\n",
    "import pandas as pd\n",
    "import numpy as np\n",
    "import tensorflow as tf\n",
    "from keras.preprocessing.sequence import pad_sequences"
   ]
  },
  {
   "cell_type": "code",
   "execution_count": 5,
   "metadata": {},
   "outputs": [
    {
     "name": "stdout",
     "output_type": "stream",
     "text": [
      "Num GPUs Available:  0\n"
     ]
    }
   ],
   "source": [
    "# Make sure we are using GPU\n",
    "print(\"Num GPUs Available: \", len(tf.config.list_physical_devices('GPU')))\n",
    "\n",
    "audio_dir = \"./AUDIO\"\n",
    "csv_file = \"./TEXT/AUDIO.csv\"\n",
    "\n",
    "audio_files = os.listdir(audio_dir)\n",
    "\n",
    "x_train = []\n",
    "y_train = []\n",
    "\n",
    "# Load the CSV file\n",
    "df = pd.read_csv(csv_file)"
   ]
  },
  {
   "cell_type": "code",
   "execution_count": 6,
   "metadata": {},
   "outputs": [],
   "source": [
    "for file in audio_files:\n",
    "    if not file.endswith(\".mp3\"):\n",
    "        continue\n",
    "\n",
    "    file_path = os.path.join(audio_dir, file)\n",
    "\n",
    "    y, sr = librosa.load(file_path, sr=None, mono=True)\n",
    "\n",
    "    spectrogram = librosa.feature.melspectrogram(y=y, sr=sr, n_fft=2048, hop_length=1024)\n",
    "\n",
    "    mfcc = librosa.feature.mfcc(y=y, sr=sr, n_mfcc=13)\n",
    "    mfcc = np.transpose(mfcc, (1, 0))\n",
    "\n",
    "    x_train.append(mfcc)\n",
    "\n",
    "    # Find the matching text in the CSV file\n",
    "    matched_text = df.loc[df['Video Matching'] == file, 'Text'].values[0]\n",
    "\n",
    "    y_train.append(matched_text)"
   ]
  },
  {
   "cell_type": "code",
   "execution_count": 7,
   "metadata": {},
   "outputs": [],
   "source": [
    "from keras.utils import to_categorical\n",
    "# Create a set of all unique characters in your text data\n",
    "characters = set(char for label in y_train for char in label)\n",
    "\n",
    "\n",
    "# Create a dictionary to map characters to unique IDs\n",
    "char_to_id = {char: id for id, char in enumerate(characters)}\n",
    "\n",
    "# Convert your labels to integer IDs\n",
    "y_train_ids = [[char_to_id[char] for char in label] for label in y_train]\n",
    "\n",
    "# Convert your labels to one-hot encoded format\n",
    "y_train_onehot = [to_categorical(label, num_classes=len(characters)) for label in y_train_ids]\n",
    "\n",
    "# Determine the length of the longest MFCC array\n",
    "max_len = max(mfcc.shape[0] for mfcc in x_train)\n",
    "\n",
    "# Pad the label sequences and convert to numpy array\n",
    "y_train_padded = pad_sequences(y_train_onehot, maxlen=max_len, padding='post')\n",
    "\n",
    "# Determine the length of the longest MFCC array\n",
    "max_len = max(mfcc.shape[0] for mfcc in x_train)\n",
    "\n",
    "# Pad the MFCC arrays and convert to numpy array\n",
    "x_train = np.array([np.pad(mfcc, ((0, max_len - mfcc.shape[0]), (0, 0))) for mfcc in x_train])"
   ]
  },
  {
   "cell_type": "code",
   "execution_count": 8,
   "metadata": {},
   "outputs": [],
   "source": [
    "model = tf.keras.models.Sequential()\n",
    "model.add(tf.keras.layers.LSTM(128, input_shape=(None, 13), return_sequences=True)) \n",
    "model.add(tf.keras.layers.TimeDistributed(tf.keras.layers.Dense(len(characters), activation='softmax')))"
   ]
  },
  {
   "cell_type": "code",
   "execution_count": 9,
   "metadata": {},
   "outputs": [],
   "source": [
    "model.compile(optimizer='adam', loss='categorical_crossentropy', metrics=['accuracy'])\n"
   ]
  },
  {
   "cell_type": "code",
   "execution_count": null,
   "metadata": {},
   "outputs": [],
   "source": [
    "from keras.models import load_model\n",
    "\n",
    "# Load the model\n",
    "if os.path.exists(\"model.h5\"):\n",
    "    model = load_model(\"model.h5\")\n",
    "\n",
    "# Train the model\n",
    "with tf.device('/device:GPU:0'):\n",
    "    model.fit(x_train, y_train_padded, epochs=10000, batch_size=16)"
   ]
  },
  {
   "cell_type": "code",
   "execution_count": null,
   "metadata": {},
   "outputs": [],
   "source": [
    "model.save(\"model.h5\")"
   ]
  }
 ],
 "metadata": {
  "kernelspec": {
   "display_name": "Python 3",
   "language": "python",
   "name": "python3"
  },
  "language_info": {
   "codemirror_mode": {
    "name": "ipython",
    "version": 3
   },
   "file_extension": ".py",
   "mimetype": "text/x-python",
   "name": "python",
   "nbconvert_exporter": "python",
   "pygments_lexer": "ipython3",
   "version": "3.11.6"
  }
 },
 "nbformat": 4,
 "nbformat_minor": 2
}
